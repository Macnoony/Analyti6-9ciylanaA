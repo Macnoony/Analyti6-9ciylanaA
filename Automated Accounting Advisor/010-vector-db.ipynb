{
 "cells": [
  {
   "cell_type": "code",
   "execution_count": 1,
   "id": "c6866fbf-5ca6-45a5-a234-d0ad3db16545",
   "metadata": {},
   "outputs": [
    {
     "name": "stdout",
     "output_type": "stream",
     "text": [
      "SAP HANA Client for Python: 2.18.23120102\n",
      "The file './00-setup/secret.ini' exists.\n",
      "Connection to SAP HANA db at e8cbb57b-f1d9-45df-be0d-ccd5671901ce.hna0.prod-us10.hanacloud.ondemand.com:443 \n",
      "is established for user developer\n",
      "<dbapi.Connection Connection object : e8cbb57b-f1d9-45df-be0d-ccd5671901ce.hna0.prod-us10.hanacloud.ondemand.com,443,developer,Hack2Build_Deliotte_7256,True>\n",
      "4.00.000.00.1708429435 (fa/CE2024.2)\n",
      "DEVELOPER\n",
      "AICORE_AUTH_URL: https://deloitte-ci083owd.authentication.eu10.hana.ondemand.com\n",
      "AICORE_CLIENT_ID: sb-928ec83a-bf7c-465c-aac9-989ed20a8bfb!b410248|aicore!b540\n",
      "AICORE_CLIENT_SECRET: b76da79b-85c5-4506-b6d0-79cd0eb7df15$TGxTiO6xbkhu-1XY6K8EOGloxqvnDJTZZUlcFhN_piU=\n",
      "AICORE_RESOURCE_GROUP: default\n",
      "AICORE_BASE_URL: https://api.ai.prod.eu-central-1.aws.ml.hana.ondemand.com/v2\n"
     ]
    }
   ],
   "source": [
    "import hana_ml\n",
    "print(f\"SAP HANA Client for Python: {hana_ml.__version__}\")\n",
    "\n",
    "### Hana DB connection credentials\n",
    "\n",
    "import os\n",
    "file_path = './00-setup/secret.ini' \n",
    "\n",
    "if os.path.exists(file_path):\n",
    "    print(f\"The file '{file_path}' exists.\")\n",
    "    from hana_ml.algorithms.pal.utility import Settings\n",
    "    myhost, myport, myuser, mypwd = Settings.load_config(file_path)\n",
    "    if myhost == '' or myport == 0 or myuser == '' or mypwd == '':\n",
    "        print(\"At least one required connection parameter is empty.\")\n",
    "    else:\n",
    "        print(f\"Connection to SAP HANA db at {myhost}:{myport} \\nis established for user {myuser}\")\n",
    "else:\n",
    "    print(f\"The file '{file_path}' does not exist!\\nCreate and configure it first.\")\n",
    "\n",
    "#### Connect to Hana DB using hdbcli\n",
    "\n",
    "from hdbcli import dbapi\n",
    "\n",
    "# Use connection settings from the environment\n",
    "connection = dbapi.connect(\n",
    "    address=myhost,\n",
    "    port=myport,\n",
    "    user=myuser,\n",
    "    password=mypwd,\n",
    "    autocommit=True,\n",
    "    sslValidateCertificate=False,\n",
    ")\n",
    "\n",
    "print(connection) \n",
    "\n",
    "### Connect to Hana DB using hana_ml\n",
    "\n",
    "from hana_ml import ConnectionContext\n",
    "# cc = ConnectionContext(userkey='VDB_BETA', encrypt=True)\n",
    "cc= ConnectionContext(\n",
    "address=myhost,\n",
    "port=myport,\n",
    "user=myuser,\n",
    "password=mypwd ,\n",
    "encrypt=True\n",
    ")\n",
    "print(cc.hana_version())\n",
    "print(cc.get_current_schema())\n",
    "\n",
    "### SAP  AI Core  credentials\n",
    "\n",
    "import json\n",
    "import os\n",
    "\n",
    "# Read configuration from file\n",
    "config_path = \"./.aicore/config.json\"\n",
    "with open(config_path) as config_file:\n",
    "    config = json.load(config_file)\n",
    "\n",
    "# Set environment variables\n",
    "for key, value in config.items():\n",
    "    os.environ[key] = str(value)\n",
    "\n",
    "# Print the values to verify\n",
    "print(\"AICORE_AUTH_URL:\", os.environ.get(\"AICORE_AUTH_URL\"))\n",
    "print(\"AICORE_CLIENT_ID:\", os.environ.get(\"AICORE_CLIENT_ID\"))\n",
    "print(\"AICORE_CLIENT_SECRET:\", os.environ.get(\"AICORE_CLIENT_SECRET\"))\n",
    "print(\"AICORE_RESOURCE_GROUP:\", os.environ.get(\"AICORE_RESOURCE_GROUP\"))\n",
    "print(\"AICORE_BASE_URL:\", os.environ.get(\"AICORE_BASE_URL\"))\n"
   ]
  },
  {
   "cell_type": "code",
   "execution_count": 2,
   "id": "442c848b-c11e-4115-89fe-7336b15681ae",
   "metadata": {},
   "outputs": [
    {
     "name": "stdout",
     "output_type": "stream",
     "text": [
      "Connected to SAP HANA db version 4.00.000.00.1708429435 (fa/CE2024.2) \n",
      "at e8cbb57b-f1d9-45df-be0d-ccd5671901ce.hna0.prod-us10.hanacloud.ondemand.com:443 as user developer\n",
      "Current time on the SAP HANA server: 2024-03-03 15:52:23.966000\n"
     ]
    }
   ],
   "source": [
    "### Hana Dataframe\n",
    "\n",
    "from hana_ml import dataframe as hdf\n",
    "myconn=hdf.ConnectionContext(\n",
    "    address=myhost, \n",
    "    port=myport, \n",
    "    user=myuser,\n",
    "    password=mypwd\n",
    ")\n",
    "print(f\"Connected to SAP HANA db version {myconn.hana_version()} \\nat {myhost}:{myport} as user {myuser}\")\n",
    "print(f'Current time on the SAP HANA server: {myconn.sql(\"SELECT NOW() FROM DUMMY\").collect().CURRENT_TIMESTAMP[0]}')\n",
    "\n",
    "\n"
   ]
  },
  {
   "cell_type": "code",
   "execution_count": 42,
   "id": "91f72a75",
   "metadata": {},
   "outputs": [],
   "source": [
    "### Delete table\n",
    "\n",
    "# Specify the table name to be deleted\n",
    "table_name_to_delete = \"GL_MANUAL\"\n",
    "cursor = cc.connection.cursor()\n",
    "\n",
    "# Generate SQL command to drop the table\n",
    "sql_command = f'DROP TABLE {table_name_to_delete}'\n",
    "\n",
    "# Execute the SQL command\n",
    "cursor.execute(sql_command)\n",
    "\n",
    "# Commit the changes\n",
    "cc.connection.commit()\n",
    "\n",
    "# Close the cursor\n",
    "cursor.close()\n"
   ]
  },
  {
   "cell_type": "code",
   "execution_count": null,
   "id": "b65af09d",
   "metadata": {},
   "outputs": [],
   "source": [
    "\n",
    "### Create a table\n",
    "\n",
    "cursor = cc.connection.cursor()\n",
    "sql_command = '''CREATE TABLE GL_MANUAL(ID BIGINT, SECTION\n",
    "NVARCHAR(1000), HEADER1 NVARCHAR(1000), HEADER2 NVARCHAR(1000), HEADER3 NVARCHAR(1000), TEXT NVARCHAR(5000)  );'''\n",
    "cursor.execute(sql_command)\n",
    "cursor.close()\n"
   ]
  },
  {
   "cell_type": "code",
   "execution_count": 3,
   "id": "09450529",
   "metadata": {},
   "outputs": [
    {
     "data": {
      "text/html": [
       "<div>\n",
       "<style scoped>\n",
       "    .dataframe tbody tr th:only-of-type {\n",
       "        vertical-align: middle;\n",
       "    }\n",
       "\n",
       "    .dataframe tbody tr th {\n",
       "        vertical-align: top;\n",
       "    }\n",
       "\n",
       "    .dataframe thead th {\n",
       "        text-align: right;\n",
       "    }\n",
       "</style>\n",
       "<table border=\"1\" class=\"dataframe\">\n",
       "  <thead>\n",
       "    <tr style=\"text-align: right;\">\n",
       "      <th></th>\n",
       "      <th>ID</th>\n",
       "      <th>Section</th>\n",
       "      <th>Header1</th>\n",
       "      <th>Header2</th>\n",
       "      <th>Header3</th>\n",
       "      <th>TEXT</th>\n",
       "      <th>CONTENT</th>\n",
       "    </tr>\n",
       "  </thead>\n",
       "  <tbody>\n",
       "    <tr>\n",
       "      <th>0</th>\n",
       "      <td>2.0</td>\n",
       "      <td>Balance Sheet</td>\n",
       "      <td>Intangible assets</td>\n",
       "      <td>Theoretical basis &amp; recognition</td>\n",
       "      <td>NaN</td>\n",
       "      <td>Intangible non-current assets comprise all ass...</td>\n",
       "      <td>Balance SheetIntangible assetsTheoretical basi...</td>\n",
       "    </tr>\n",
       "    <tr>\n",
       "      <th>1</th>\n",
       "      <td>NaN</td>\n",
       "      <td>Balance Sheet</td>\n",
       "      <td>Intangible assets</td>\n",
       "      <td>Theoretical basis &amp; recognition</td>\n",
       "      <td>NaN</td>\n",
       "      <td>Acquired intangible assets must be recognized ...</td>\n",
       "      <td>NaN</td>\n",
       "    </tr>\n",
       "    <tr>\n",
       "      <th>2</th>\n",
       "      <td>4.0</td>\n",
       "      <td>Balance Sheet</td>\n",
       "      <td>Intangible assets</td>\n",
       "      <td>Theoretical basis &amp; recognition</td>\n",
       "      <td>NaN</td>\n",
       "      <td>COMPANY categorizes the provisions into one of...</td>\n",
       "      <td>Balance SheetIntangible assetsTheoretical basi...</td>\n",
       "    </tr>\n",
       "  </tbody>\n",
       "</table>\n",
       "</div>"
      ],
      "text/plain": [
       "    ID        Section            Header1                          Header2  \\\n",
       "0  2.0  Balance Sheet  Intangible assets  Theoretical basis & recognition   \n",
       "1  NaN  Balance Sheet  Intangible assets  Theoretical basis & recognition   \n",
       "2  4.0  Balance Sheet  Intangible assets  Theoretical basis & recognition   \n",
       "\n",
       "  Header3                                               TEXT  \\\n",
       "0     NaN  Intangible non-current assets comprise all ass...   \n",
       "1     NaN  Acquired intangible assets must be recognized ...   \n",
       "2     NaN  COMPANY categorizes the provisions into one of...   \n",
       "\n",
       "                                             CONTENT  \n",
       "0  Balance SheetIntangible assetsTheoretical basi...  \n",
       "1                                                NaN  \n",
       "2  Balance SheetIntangible assetsTheoretical basi...  "
      ]
     },
     "execution_count": 3,
     "metadata": {},
     "output_type": "execute_result"
    }
   ],
   "source": [
    "### import data\n",
    "\n",
    "import pandas as pd\n",
    "df = pd.read_csv(r'./00-data/accguide01.csv', sep=';' , low_memory=False)\n",
    "df.head(3)"
   ]
  },
  {
   "cell_type": "code",
   "execution_count": 4,
   "id": "7a80719a",
   "metadata": {},
   "outputs": [
    {
     "data": {
      "text/plain": [
       "(50, 7)"
      ]
     },
     "execution_count": 4,
     "metadata": {},
     "output_type": "execute_result"
    }
   ],
   "source": [
    "df.shape"
   ]
  },
  {
   "cell_type": "code",
   "execution_count": 45,
   "id": "c246884b",
   "metadata": {},
   "outputs": [
    {
     "name": "stderr",
     "output_type": "stream",
     "text": [
      "100%|██████████| 1/1 [00:00<00:00,  3.36it/s]\n"
     ]
    }
   ],
   "source": [
    "### append records to existing Hana table\n",
    "\n",
    "from hana_ml.dataframe import create_dataframe_from_pandas\n",
    "# convert pdf to hdf\n",
    "v_hdf = create_dataframe_from_pandas(\n",
    "connection_context=cc,\n",
    "pandas_df=df,\n",
    "table_name=\"GL_MANUAL\",\n",
    "allow_bigint=True,\n",
    "append=True\n",
    ")"
   ]
  },
  {
   "cell_type": "code",
   "execution_count": 44,
   "id": "9bf8eb77",
   "metadata": {},
   "outputs": [],
   "source": [
    "# alter table -> add fields for mata , text embbeding and  vectors\n",
    "\n",
    "cursor = cc.connection.cursor()\n",
    "sql_command = '''ALTER TABLE GL_MANUAL ADD (VEC_META NVARCHAR(5000),VEC_TEXT NCLOB, VEC_VECTOR REAL_VECTOR);'''\n",
    "cursor.execute(sql_command)\n",
    "cursor.close()"
   ]
  },
  {
   "cell_type": "code",
   "execution_count": null,
   "id": "cebfc5f9",
   "metadata": {},
   "outputs": [],
   "source": [
    "!pip install langchain_community\n",
    "!pip install generative-ai-hub-sdk"
   ]
  },
  {
   "cell_type": "code",
   "execution_count": 38,
   "id": "58bf0f16",
   "metadata": {},
   "outputs": [],
   "source": [
    "# Set the version of the proxy being used\n",
    "from gen_ai_hub.proxy import set_proxy_version\n",
    "\n",
    "# Initialize language models from the Generative AI Hub\n",
    "from gen_ai_hub.proxy.langchain.init_models import init_llm\n",
    "\n",
    "# Create chat prompt templates for structured input to language models\n",
    "from langchain.prompts import ChatPromptTemplate\n",
    "\n",
    "# Parse outputs from OpenAI response\n",
    "from langchain.schema.output_parser import StrOutputParser\n",
    "\n",
    "# Parse outputs from OpenAI functions\n",
    "from langchain.output_parsers.openai_functions import JsonOutputFunctionsParser\n",
    "\n",
    "# Interact with a HANA database for vector storage\n",
    "from langchain_community.vectorstores import HanaDB\n",
    "\n",
    "# Initialize OpenAI embeddings for language representation\n",
    "from gen_ai_hub.proxy.langchain.openai import OpenAIEmbeddings\n",
    "embeddings = OpenAIEmbeddings(proxy_model_name='text-embedding-ada-002')\n",
    "\n",
    "# Create a Document Store for storing documents\n",
    "from langchain.docstore.document import Document\n",
    "# associating Document Store with OpenAI embeddingsa database connection and the source table name \n",
    "db = HanaDB(embedding=embeddings, connection=connection, table_name=\"GL_MANUAL\")\n"
   ]
  },
  {
   "cell_type": "code",
   "execution_count": 8,
   "id": "65c796a5",
   "metadata": {},
   "outputs": [
    {
     "name": "stdout",
     "output_type": "stream",
     "text": [
      "<langchain_community.vectorstores.hanavector.HanaDB object at 0x7fb3049e7c50>\n"
     ]
    }
   ],
   "source": [
    "#print(db)\n",
    "#df_transposed = df.T  # Transpose the DataFrame\n",
    "#df_transposed"
   ]
  },
  {
   "cell_type": "code",
   "execution_count": 5,
   "id": "357f47bb",
   "metadata": {},
   "outputs": [],
   "source": [
    "### Prerpare emmbedings text \n",
    "documents = []\n",
    "for _, row in df.iterrows():\n",
    "    # Concatenate Section, Header1, Header2, Header3 with TEXT, using \"::\" as the separator, with TEXT at the bottom\n",
    "    content = \"::\".join([str(row['Section']), str(row['Header1']), str(row['Header2']), str(row['Header3']), str(row['TEXT'])])\n",
    "    \n",
    "    # Assuming metadata remains the same\n",
    "    metadata = {\n",
    "        \"Section\": row['Section'],\n",
    "        \"Header1\": row['Header1'],\n",
    "        \"Header2\": row['Header2'],\n",
    "        \"Header3\": row['Header3'],\n",
    "    }\n",
    "    \n",
    "    # Create a Document object with the concatenated content and metadata\n",
    "    document = [Document(page_content=content, metadata=metadata)]\n",
    "    documents += document"
   ]
  },
  {
   "cell_type": "code",
   "execution_count": 6,
   "id": "547e08a0",
   "metadata": {},
   "outputs": [
    {
     "data": {
      "text/plain": [
       "[]"
      ]
     },
     "execution_count": 6,
     "metadata": {},
     "output_type": "execute_result"
    }
   ],
   "source": [
    "### create emmbeddings\n",
    "db.add_documents(documents)"
   ]
  },
  {
   "cell_type": "code",
   "execution_count": 21,
   "id": "e86a5b38",
   "metadata": {},
   "outputs": [],
   "source": [
    "#SSR = db.similarity_search(query , k=4)\n",
    "#import inspect\n",
    "#print(dir(SSR))\n",
    "#print(inspect.getmembers(SSR))\n",
    "#print(type(SSR))\n",
    "#help(SSR)"
   ]
  },
  {
   "cell_type": "code",
   "execution_count": 7,
   "id": "b750b16e",
   "metadata": {},
   "outputs": [],
   "source": [
    "query = \"Initial & subsequent measurement\""
   ]
  },
  {
   "cell_type": "code",
   "execution_count": 66,
   "id": "890afc7a",
   "metadata": {},
   "outputs": [
    {
     "data": {
      "text/plain": [
       "[Document(page_content='Balance Sheet::Intangible assets::Internally generated intangible assets::Initial and subsequent measurement::Subsequent measurement\\nSubsequent measurement of internally generated intangible assets is done at amortized cost in accordance with IAS 38.72.', metadata={'Section': 'Balance Sheet', 'Header1': 'Intangible assets', 'Header2': 'Internally generated intangible assets', 'Header3': 'Initial and subsequent measurement'}),\n",
       " Document(page_content='Balance Sheet::Intangible assets::Internally generated intangible assets::Initial and subsequent measurement::Subsequent measurement\\nSubsequent measurement of internally generated intangible assets is done at amortized cost in accordance with IAS 38.72.', metadata={'Section': 'Balance Sheet', 'Header1': 'Intangible assets', 'Header2': 'Internally generated intangible assets', 'Header3': 'Initial and subsequent measurement'}),\n",
       " Document(page_content='Balance Sheet::Intangible assets::Internally generated intangible assets::Initial and subsequent measurement::Subsequent measurement\\nSubsequent measurement of internally generated intangible assets is done at amortized cost in accordance with IAS 38.72.', metadata={'Section': 'Balance Sheet', 'Header1': 'Intangible assets', 'Header2': 'Internally generated intangible assets', 'Header3': 'Initial and subsequent measurement'}),\n",
       " Document(page_content='Balance Sheet::Intangible assets::Internally generated intangible assets::Initial and subsequent measurement::Subsequent measurement\\nSubsequent measurement of internally generated intangible assets is done at amortized cost in accordance with IAS 38.72.', metadata={'Section': 'Balance Sheet', 'Header1': 'Intangible assets', 'Header2': 'Internally generated intangible assets', 'Header3': 'Initial and subsequent measurement'}),\n",
       " Document(page_content='Balance Sheet::Intangible assets::Purchased intangible assets::Initial & subsequent measurement::Subsequent measurement\\nSubsequent measurement is based on the cost model, which implies the reduction of acquisition costs by total accumulated amortization and impairment losses. In case the reason for previous impairment is not valid any more, impairment losses are to be reversed (appreciation).\\nFor amortization purposes, intangible assets need the specification whether their useful life is finite (limited) or indefinite.', metadata={'Section': 'Balance Sheet', 'Header1': 'Intangible assets', 'Header2': 'Purchased intangible assets', 'Header3': 'Initial & subsequent measurement'})]"
      ]
     },
     "execution_count": 66,
     "metadata": {},
     "output_type": "execute_result"
    }
   ],
   "source": [
    "db.similarity_search(query , k=5)"
   ]
  },
  {
   "cell_type": "code",
   "execution_count": 67,
   "id": "da08e676",
   "metadata": {},
   "outputs": [
    {
     "name": "stdout",
     "output_type": "stream",
     "text": [
      "[Document(page_content='Balance Sheet::Intangible assets::Internally generated intangible assets::Initial and subsequent measurement::Subsequent measurement\\nSubsequent measurement of internally generated intangible assets is done at amortized cost in accordance with IAS 38.72.', metadata={'Section': 'Balance Sheet', 'Header1': 'Intangible assets', 'Header2': 'Internally generated intangible assets', 'Header3': 'Initial and subsequent measurement'}), Document(page_content='Balance Sheet::Intangible assets::Internally generated intangible assets::Initial and subsequent measurement::Subsequent measurement\\nSubsequent measurement of internally generated intangible assets is done at amortized cost in accordance with IAS 38.72.', metadata={'Section': 'Balance Sheet', 'Header1': 'Intangible assets', 'Header2': 'Internally generated intangible assets', 'Header3': 'Initial and subsequent measurement'})]\n"
     ]
    }
   ],
   "source": [
    "search_results = db.similarity_search(query , k=2)\n",
    "print(search_results)"
   ]
  },
  {
   "cell_type": "code",
   "execution_count": 62,
   "id": "e961a642",
   "metadata": {},
   "outputs": [],
   "source": [
    " set_proxy_version('gen-ai-hub')\n",
    "\n",
    "llm= init_llm(  \n",
    "            'gpt-4',\n",
    "            temperature = 0,\n",
    "            max_tokens=500,\n",
    "            top_p=1,\n",
    "            frequency_penalty=0,\n",
    "            presence_penalty=0,\n",
    "            seed=123,\n",
    "            verbose = False\n",
    "        )"
   ]
  },
  {
   "cell_type": "code",
   "execution_count": null,
   "id": "c4c2d28f",
   "metadata": {},
   "outputs": [],
   "source": [
    "for document in search_results:\n",
    "    prompt = f\"Document content: {document.page_content}\"\n",
    "    response = llm.generate(prompt)\n",
    "    \n",
    "    # Do something with the generated response, e.g., print it\n",
    "    print(response)"
   ]
  },
  {
   "cell_type": "code",
   "execution_count": 60,
   "id": "69f8f245",
   "metadata": {},
   "outputs": [
    {
     "name": "stdout",
     "output_type": "stream",
     "text": [
      "content='SAP HANA is an in-memory, column-oriented, relational database management system developed and marketed by SAP SE. Its primary function as a database server is to store and retrieve data as requested by the applications. In addition, it performs advanced analytics (predictive analytics, spatial data processing, text analytics, text search, streaming analytics, graph data processing) and includes ETL capabilities as well as an application server.\\n\\nThe term \"Vector\" in SAP HANA Vector database refers to the Vector Engine, which is a part of the SAP HANA database that is designed to speed up data processing. It uses vector processing and parallelization to perform operations on multiple data items simultaneously, rather than one at a time. This can significantly improve the performance of data'\n"
     ]
    }
   ],
   "source": [
    "response = llm.invoke(\"elaborate on sap HANA Vector database \")\n",
    "print(response)"
   ]
  },
  {
   "cell_type": "markdown",
   "id": "7d7b3b1d",
   "metadata": {},
   "source": []
  },
  {
   "cell_type": "code",
   "execution_count": 56,
   "id": "8d007d0a",
   "metadata": {},
   "outputs": [
    {
     "name": "stdout",
     "output_type": "stream",
     "text": [
      "Document content: Balance Sheet::Intangible assets::Internally generated intangible assets::Initial and subsequent measurement::Subsequent measurement\n",
      "Subsequent measurement of internally generated intangible assets is done at amortized cost in accordance with IAS 38.72.\n"
     ]
    }
   ],
   "source": [
    "content = f\"Document content: {document.page_content}\"\n",
    "# response = llm.generate(prompt)\n",
    "    \n",
    "# Do something with the generated response, e.g., print it\n",
    "print(content)"
   ]
  },
  {
   "cell_type": "code",
   "execution_count": 63,
   "id": "b2a928f1",
   "metadata": {},
   "outputs": [
    {
     "name": "stdout",
     "output_type": "stream",
     "text": [
      "To post transactions in ACDOCA for the subsequent measurement of internally generated intangible assets, you need to follow these steps:\n",
      "\n",
      "1. Identify the intangible asset: The first step is to identify the internally generated intangible asset that needs to be measured. This could be a patent, trademark, copyright, or any other intangible asset that the company has developed.\n",
      "\n",
      "2. Calculate the amortized cost: The next step is to calculate the amortized cost of the intangible asset in accordance with IAS 38.72. This involves determining the initial cost of the asset, subtracting any accumulated amortization, and adjusting for any impairment losses.\n",
      "\n",
      "3. Post the transaction: Once the amortized cost has been calculated, you can post the transaction in ACDOCA. This involves debiting the intangible asset account and crediting the corresponding expense account.\n",
      "\n",
      "4. Review and verify: After the transaction has been posted, it's important to review and verify the information to ensure that it's accurate. This includes checking the amounts, the accounts involved, and the date of the transaction.\n",
      "\n",
      "5. Repeat for each intangible asset: This process needs to be repeated for each internally generated intangible asset that the company owns.\n",
      "\n",
      "Please note that this is a general outline and the exact steps may vary depending on the specific circumstances and the company's accounting policies.\n"
     ]
    }
   ],
   "source": [
    "prompt = ChatPromptTemplate.from_template(\"Given the following {content} as SAP S/4HANA Finance module professional, please utilize the provided context to succinctly outline the necessary information for posting transactions in ACDOCA. If the context lacks sufficient details for your task, respond with I need more context anddo not state your role in the response.\")\n",
    "#context = {\"content\": content} \n",
    "chain = (prompt | llm | StrOutputParser())\n",
    "response = chain.invoke({\"content\": content})\n",
    "#generated_text = response['choices'][0]['text']\n",
    "print(response)\n",
    "\n",
    "\n"
   ]
  },
  {
   "cell_type": "markdown",
   "id": "b4d7058a",
   "metadata": {},
   "source": []
  },
  {
   "cell_type": "code",
   "execution_count": null,
   "id": "701e2bc3",
   "metadata": {},
   "outputs": [],
   "source": [
    "pip install tkinter"
   ]
  },
  {
   "cell_type": "code",
   "execution_count": 3,
   "id": "cb753a51",
   "metadata": {},
   "outputs": [],
   "source": [
    "import os\n",
    "import openai\n",
    "\n",
    "\n",
    "# Set your OpenAI API credentials\n",
    "# Set your OpenAI API credentials\n",
    "openai.api_type = \"azure\"\n",
    "openai.api_version = \"2023-05-15\" \n",
    "openai.api_base = \"https://de-genai-sap.openai.azure.com\"  # Your Azure OpenAI resource's endpoint value.\n",
    "openai.api_key = \"1e6adf37c94f4a77bdd34895edc4be61\"\n",
    "\n",
    "# Function to handle the \"Ask\" button click event\n",
    "def ask_openai():\n",
    "    user_question = user_question_entry.get()\n",
    "\n",
    "    if not user_question.strip():\n",
    "        # Ensure that the user has entered a question\n",
    "        result_text.delete(1.0, tk.END)\n",
    "        result_text.insert(tk.END, \"Please enter a question.\")\n",
    "        return\n",
    "\n",
    "    # Call OpenAI API to get the assistant's response\n",
    "    response = openai.ChatCompletion.create(\n",
    "        engine=\"GenAITest\",\n",
    "        messages=[\n",
    "            {\"role\": \"system\", \"content\": \"Assistant is a large language model trained by OpenAI.\"},\n",
    "            {\"role\": \"user\", \"content\": user_question}\n",
    "        ]\n",
    "    )\n",
    "\n",
    "    # Extract and display the assistant's reply\n",
    "    assistant_reply = response['choices'][0]['message']['content']\n",
    "    result_text.delete(1.0, tk.END)\n",
    "    result_text.insert(tk.END, \"Assistant: \" + assistant_reply)\n",
    "\n",
    "#\n",
    "#"
   ]
  }
 ],
 "metadata": {
  "kernelspec": {
   "display_name": "Python 3 (ipykernel)",
   "language": "python",
   "name": "python3"
  },
  "language_info": {
   "codemirror_mode": {
    "name": "ipython",
    "version": 3
   },
   "file_extension": ".py",
   "mimetype": "text/x-python",
   "name": "python",
   "nbconvert_exporter": "python",
   "pygments_lexer": "ipython3",
   "version": "3.11.2"
  }
 },
 "nbformat": 4,
 "nbformat_minor": 5
}
